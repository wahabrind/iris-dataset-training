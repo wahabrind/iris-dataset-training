{
 "cells": [
  {
   "cell_type": "markdown",
   "metadata": {},
   "source": [
    "# ASSIGNMENT : IRIS MULTI-CLASS CLASSIFICATION\n",
    "\n",
    "###### Purpose :\n",
    "To predict the species of flower .\n",
    "###### Description :\n",
    "The dataset contains a set of 150 records under 5 attributes - Petal Length, Petal Width, Sepal Length, Sepal width and Class(Species).\n",
    "###### Requirements :\n",
    "1) Code must be in tf 2.0 .\n",
    "\n",
    "2) Accuracy must be in between 95-97% .\n",
    "\n",
    "3) Model shouldn't be Overfit (You can add drop out layer for this) ."
   ]
  },
  {
   "cell_type": "markdown",
   "metadata": {},
   "source": [
    "### STEP 1 : Load all the necessary libraries "
   ]
  },
  {
   "cell_type": "code",
   "execution_count": 5,
   "metadata": {},
   "outputs": [],
   "source": [
    "import numpy as np\n",
    "import pandas as pd\n",
    "import tensorflow as tf"
   ]
  },
  {
   "cell_type": "markdown",
   "metadata": {},
   "source": [
    "### STEP 2 : Data Preparation\n",
    "This step consists of multiple sub steps from data loading [download](https://github.com/ramsha275/PIAIC-Sir-Anees-Quarter-2/blob/master/Deep%20Learning/iris.csv),shuffling ,spliting in **Train** and **Test** sets to one-hot-enconding on labels . \n"
   ]
  },
  {
   "cell_type": "code",
   "execution_count": 18,
   "metadata": {},
   "outputs": [
    {
     "name": "stdout",
     "output_type": "stream",
     "text": [
      "(150, 3)\n",
      "(150, 4)\n"
     ]
    },
    {
     "name": "stderr",
     "output_type": "stream",
     "text": [
      "E:\\anaconda3\\lib\\site-packages\\pandas\\core\\indexing.py:630: SettingWithCopyWarning: \n",
      "A value is trying to be set on a copy of a slice from a DataFrame.\n",
      "Try using .loc[row_indexer,col_indexer] = value instead\n",
      "\n",
      "See the caveats in the documentation: http://pandas.pydata.org/pandas-docs/stable/indexing.html#indexing-view-versus-copy\n",
      "  self.obj[item_labels[indexer[info_axis]]] = value\n",
      "E:\\anaconda3\\lib\\site-packages\\sklearn\\preprocessing\\_encoders.py:368: FutureWarning: The handling of integer data will change in version 0.22. Currently, the categories are determined based on the range [0, max(values)], while in the future they will be determined based on the unique values.\n",
      "If you want the future behaviour and silence this warning, you can specify \"categories='auto'\".\n",
      "In case you used a LabelEncoder before this OneHotEncoder to convert the categories to integers, then you can now use the OneHotEncoder directly.\n",
      "  warnings.warn(msg, FutureWarning)\n"
     ]
    }
   ],
   "source": [
    "dataset=pd.read_csv('./iris.csv')\n",
    "#x=dataset[:,0:-1]\n",
    "x=dataset.iloc[:,0:-1]\n",
    "y=dataset.iloc[:,4:5]\n",
    "\n",
    "from sklearn.preprocessing import LabelEncoder, OneHotEncoder\n",
    "labelencoder_y = LabelEncoder()\n",
    "y.iloc[:, 0] = labelencoder_y.fit_transform(y.iloc[:, 0])\n",
    "\n",
    "onehotencoder=OneHotEncoder()\n",
    "y= onehotencoder.fit_transform(y).toarray()\n",
    "\n",
    "from sklearn.model_selection import train_test_split\n",
    "x_train, x_test, y_train, y_test = train_test_split(x, y, test_size = 0.1, random_state = 0)\n",
    "dataset.head()\n",
    "print(y.shape)\n",
    "print(x.shape)\n",
    "\n",
    "\n"
   ]
  },
  {
   "cell_type": "markdown",
   "metadata": {},
   "source": [
    "### STEP 3 : Model Architecture \n",
    "\n",
    "\n",
    "###### Input : 4 \n",
    "###### 1 hidden Layer : 8 nodes\n",
    "###### Output : 3"
   ]
  },
  {
   "cell_type": "code",
   "execution_count": 19,
   "metadata": {},
   "outputs": [
    {
     "name": "stdout",
     "output_type": "stream",
     "text": [
      "Model: \"sequential_2\"\n",
      "_________________________________________________________________\n",
      "Layer (type)                 Output Shape              Param #   \n",
      "=================================================================\n",
      "dense_6 (Dense)              (None, 128)               640       \n",
      "_________________________________________________________________\n",
      "dense_7 (Dense)              (None, 256)               33024     \n",
      "_________________________________________________________________\n",
      "dense_8 (Dense)              (None, 3)                 771       \n",
      "=================================================================\n",
      "Total params: 34,435\n",
      "Trainable params: 34,435\n",
      "Non-trainable params: 0\n",
      "_________________________________________________________________\n"
     ]
    }
   ],
   "source": [
    "classifier=tf.keras.models.Sequential()\n",
    "classifier.add(tf.keras.layers.Dense(128, activation=\"relu\" , input_dim=4))\n",
    "\n",
    "classifier.add(tf.keras.layers.Dense(256, activation=\"relu\" ))\n",
    "\n",
    "\n",
    "classifier.add(tf.keras.layers.Dense(3, activation='softmax'))\n",
    "\n",
    "classifier.summary()"
   ]
  },
  {
   "cell_type": "markdown",
   "metadata": {},
   "source": [
    "### STEP 4 : Compilation Step "
   ]
  },
  {
   "cell_type": "code",
   "execution_count": 20,
   "metadata": {},
   "outputs": [],
   "source": [
    "classifier.compile('adam',\n",
    "              loss='categorical_crossentropy',\n",
    "              metrics=['accuracy'])"
   ]
  },
  {
   "cell_type": "markdown",
   "metadata": {},
   "source": [
    "### STEP 5 : Evaluation "
   ]
  },
  {
   "cell_type": "code",
   "execution_count": 21,
   "metadata": {},
   "outputs": [
    {
     "name": "stderr",
     "output_type": "stream",
     "text": [
      "W1221 11:11:46.044538  2628 training.py:504] Falling back from v2 loop because of error: Failed to find data adapter that can handle input: <class 'pandas.core.frame.DataFrame'>, <class 'NoneType'>\n"
     ]
    },
    {
     "name": "stdout",
     "output_type": "stream",
     "text": [
      "Train on 135 samples\n",
      "Epoch 1/20\n",
      "135/135 [==============================] - 1s 4ms/sample - loss: 0.9204 - accuracy: 0.5556\n",
      "Epoch 2/20\n",
      "135/135 [==============================] - 0s 189us/sample - loss: 0.7164 - accuracy: 0.7185\n",
      "Epoch 3/20\n",
      "135/135 [==============================] - 0s 118us/sample - loss: 0.5746 - accuracy: 0.8741\n",
      "Epoch 4/20\n",
      "135/135 [==============================] - 0s 118us/sample - loss: 0.4881 - accuracy: 0.7259\n",
      "Epoch 5/20\n",
      "135/135 [==============================] - 0s 237us/sample - loss: 0.4214 - accuracy: 0.8963\n",
      "Epoch 6/20\n",
      "135/135 [==============================] - 0s 208us/sample - loss: 0.3911 - accuracy: 0.9185\n",
      "Epoch 7/20\n",
      "135/135 [==============================] - ETA: 0s - loss: 0.4112 - accuracy: 0.96 - 0s 207us/sample - loss: 0.3360 - accuracy: 0.9111\n",
      "Epoch 8/20\n",
      "135/135 [==============================] - 0s 207us/sample - loss: 0.3031 - accuracy: 0.9630\n",
      "Epoch 9/20\n",
      "135/135 [==============================] - 0s 444us/sample - loss: 0.2748 - accuracy: 0.9704\n",
      "Epoch 10/20\n",
      "135/135 [==============================] - ETA: 0s - loss: 0.2571 - accuracy: 0.93 - 0s 237us/sample - loss: 0.2568 - accuracy: 0.9333\n",
      "Epoch 11/20\n",
      "135/135 [==============================] - 0s 237us/sample - loss: 0.2352 - accuracy: 0.9778\n",
      "Epoch 12/20\n",
      "135/135 [==============================] - 0s 208us/sample - loss: 0.2183 - accuracy: 0.9556\n",
      "Epoch 13/20\n",
      "135/135 [==============================] - 0s 178us/sample - loss: 0.2152 - accuracy: 0.9185\n",
      "Epoch 14/20\n",
      "135/135 [==============================] - 0s 260us/sample - loss: 0.2279 - accuracy: 0.9185\n",
      "Epoch 15/20\n",
      "135/135 [==============================] - 0s 237us/sample - loss: 0.1963 - accuracy: 0.9481\n",
      "Epoch 16/20\n",
      "135/135 [==============================] - 0s 230us/sample - loss: 0.2099 - accuracy: 0.9259\n",
      "Epoch 17/20\n",
      "135/135 [==============================] - 0s 329us/sample - loss: 0.1441 - accuracy: 0.9852\n",
      "Epoch 18/20\n",
      "135/135 [==============================] - 0s 237us/sample - loss: 0.2091 - accuracy: 0.9111\n",
      "Epoch 19/20\n",
      "135/135 [==============================] - 0s 201us/sample - loss: 0.1508 - accuracy: 0.9481\n",
      "Epoch 20/20\n",
      "135/135 [==============================] - 0s 223us/sample - loss: 0.1725 - accuracy: 0.9481\n"
     ]
    },
    {
     "data": {
      "text/plain": [
       "<tensorflow.python.keras.callbacks.History at 0x1b9581ed320>"
      ]
     },
     "execution_count": 21,
     "metadata": {},
     "output_type": "execute_result"
    }
   ],
   "source": [
    "classifier.fit(x_train, y_train, epochs=20)"
   ]
  },
  {
   "cell_type": "markdown",
   "metadata": {},
   "source": [
    "### STEP 6 : Prediction "
   ]
  },
  {
   "cell_type": "code",
   "execution_count": 22,
   "metadata": {},
   "outputs": [
    {
     "name": "stderr",
     "output_type": "stream",
     "text": [
      "W1221 11:11:51.099782  2628 training.py:504] Falling back from v2 loop because of error: Failed to find data adapter that can handle input: <class 'pandas.core.frame.DataFrame'>, <class 'NoneType'>\n"
     ]
    },
    {
     "name": "stdout",
     "output_type": "stream",
     "text": [
      "[[7.89019105e-05 3.28590274e-02 9.67062116e-01]\n",
      " [7.50827231e-03 9.49815571e-01 4.26761135e-02]\n",
      " [9.98224556e-01 1.77509594e-03 3.46591662e-07]\n",
      " [4.31355002e-05 1.05000764e-01 8.94956112e-01]\n",
      " [9.92616355e-01 7.37927714e-03 4.32676734e-06]\n",
      " [1.89113562e-05 1.70815904e-02 9.82899487e-01]\n",
      " [9.94951010e-01 5.04629826e-03 2.76690912e-06]\n",
      " [4.87743132e-03 9.43580806e-01 5.15417419e-02]\n",
      " [3.09490948e-03 9.18191135e-01 7.87139311e-02]\n",
      " [1.35273673e-02 9.60811496e-01 2.56611053e-02]\n",
      " [1.59132571e-04 1.27667367e-01 8.72173488e-01]\n",
      " [7.76478741e-03 9.49636698e-01 4.25985903e-02]\n",
      " [4.24969243e-03 8.63415360e-01 1.32334948e-01]\n",
      " [4.11118986e-03 8.91434014e-01 1.04454868e-01]\n",
      " [4.13926132e-03 8.13245893e-01 1.82614893e-01]]\n"
     ]
    }
   ],
   "source": [
    "\n",
    "y_pred=classifier.predict(x_test)\n",
    "print(y_pred)"
   ]
  },
  {
   "cell_type": "code",
   "execution_count": 16,
   "metadata": {},
   "outputs": [
    {
     "name": "stderr",
     "output_type": "stream",
     "text": [
      "E:\\anaconda3\\lib\\site-packages\\sklearn\\metrics\\classification.py:1143: UndefinedMetricWarning: Precision and F-score are ill-defined and being set to 0.0 in labels with no predicted samples.\n",
      "  'precision', 'predicted', average, warn_for)\n",
      "W1221 09:36:38.638471  2628 training.py:504] Falling back from v2 loop because of error: Failed to find data adapter that can handle input: <class 'pandas.core.frame.DataFrame'>, <class 'NoneType'>\n"
     ]
    },
    {
     "name": "stdout",
     "output_type": "stream",
     "text": [
      "              precision    recall  f1-score   support\n",
      "\n",
      "           0       0.00      0.00      0.00        11\n",
      "           1       0.43      1.00      0.60        13\n",
      "           2       0.00      0.00      0.00         6\n",
      "\n",
      "   micro avg       0.43      0.43      0.43        30\n",
      "   macro avg       0.14      0.33      0.20        30\n",
      "weighted avg       0.19      0.43      0.26        30\n",
      "\n",
      "[[ 0 11  0]\n",
      " [ 0 13  0]\n",
      " [ 0  6  0]]\n",
      "\r",
      "30/30 [==============================] - 0s 1ms/sample - loss: 0.8411 - accuracy: 1.0000\n"
     ]
    },
    {
     "data": {
      "text/plain": [
       "[0.8411428928375244, 1.0]"
      ]
     },
     "execution_count": 16,
     "metadata": {},
     "output_type": "execute_result"
    }
   ],
   "source": [
    "y_test_class = np.argmax(y_test,axis=1)\n",
    "y_pred_class = np.argmax(y_pred,axis=1)\n",
    "from sklearn.metrics import classification_report,confusion_matrix\n",
    "print(classification_report(y_test_class,y_pred_class))\n",
    "print(confusion_matrix(y_test_class,y_pred_class))\n",
    "classifier.evaluate(x_test,y_pred)"
   ]
  }
 ],
 "metadata": {
  "kernelspec": {
   "display_name": "Python 3",
   "language": "python",
   "name": "python3"
  },
  "language_info": {
   "codemirror_mode": {
    "name": "ipython",
    "version": 3
   },
   "file_extension": ".py",
   "mimetype": "text/x-python",
   "name": "python",
   "nbconvert_exporter": "python",
   "pygments_lexer": "ipython3",
   "version": "3.7.1"
  }
 },
 "nbformat": 4,
 "nbformat_minor": 2
}
